{
 "cells": [
  {
   "cell_type": "code",
   "execution_count": 27,
   "metadata": {},
   "outputs": [],
   "source": [
    "import os\n",
    "import glob\n",
    "import shutil\n",
    "\n",
    "fail = 0\n",
    "restart_lines = []\n",
    "old_out_dir = 'old_failed'\n",
    "restart_file = '3_SUBMIT_twotierEMI_3class_restart_jobs.sh'\n",
    "\n",
    "if not os.path.exists(old_out_dir):\n",
    "    os.makedirs(old_out_dir)\n",
    "\n",
    "out_files = glob.glob('old_failed/slurm-*.out')\n",
    "    \n",
    "for file in out_files:\n",
    "    f = open(file, \"r\")\n",
    "    last_line = f.readlines()[-1]\n",
    "    if 'Segmentation fault' in last_line:\n",
    "        fail += 1\n",
    "        failed_file = last_line.split(':')[0]\n",
    "        job = \"sbatch -t 1-0 --export=filename=\" + failed_file + \" batch_job.sbatch\"\n",
    "        restart_lines.append(job)\n",
    "        restart_lines.append(\"sleep 60\")\n",
    "        shutil.move(os.path.join('/scratch/sk7898/EdgeML/slurm_hpc', file),\\\n",
    "                    os.path.join(old_out_dir, file))  \n",
    "        \n",
    "with open(restart_file,'w') as f:\n",
    "    f.write('\\n'.join(restart_lines))"
   ]
  },
  {
   "cell_type": "code",
   "execution_count": null,
   "metadata": {},
   "outputs": [],
   "source": []
  }
 ],
 "metadata": {
  "kernelspec": {
   "display_name": "Python 3",
   "language": "python",
   "name": "python3"
  },
  "language_info": {
   "codemirror_mode": {
    "name": "ipython",
    "version": 3
   },
   "file_extension": ".py",
   "mimetype": "text/x-python",
   "name": "python",
   "nbconvert_exporter": "python",
   "pygments_lexer": "ipython3",
   "version": "3.6.7"
  }
 },
 "nbformat": 4,
 "nbformat_minor": 4
}
